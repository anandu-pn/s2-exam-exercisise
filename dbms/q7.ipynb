{
 "cells": [
  {
   "cell_type": "code",
   "execution_count": 22,
   "id": "add8a82a",
   "metadata": {},
   "outputs": [
    {
     "data": {
      "text/plain": [
       "{'version': '8.0.9',\n",
       " 'gitVersion': 'f882ef816d531ecfbb593843e4c554fda90ca416',\n",
       " 'targetMinOS': 'Windows 7/Windows Server 2008 R2',\n",
       " 'modules': [],\n",
       " 'allocator': 'tcmalloc-gperf',\n",
       " 'javascriptEngine': 'mozjs',\n",
       " 'sysInfo': 'deprecated',\n",
       " 'versionArray': [8, 0, 9, 0],\n",
       " 'openssl': {'running': 'Windows SChannel'},\n",
       " 'buildEnvironment': {'distmod': 'windows',\n",
       "  'distarch': 'x86_64',\n",
       "  'cc': 'cl: Microsoft (R) C/C++ Optimizing Compiler Version 19.31.31107 for x64',\n",
       "  'ccflags': '/nologo /WX /FImongo/platform/basic.h /fp:strict /EHsc /W3 /wd4068 /wd4244 /wd4267 /wd4290 /wd4351 /wd4355 /wd4373 /wd4800 /wd4251 /wd4291 /we4013 /we4099 /we4930 /errorReport:none /MD /O2 /Oy- /bigobj /utf-8 /permissive- /Zc:__cplusplus /Zc:sizedDealloc /volatile:iso /diagnostics:caret /std:c++20 /Gw /Gy /Zc:inline',\n",
       "  'cxx': 'cl: Microsoft (R) C/C++ Optimizing Compiler Version 19.31.31107 for x64',\n",
       "  'cxxflags': '/TP',\n",
       "  'linkflags': '/nologo /DEBUG /INCREMENTAL:NO /LARGEADDRESSAWARE /OPT:REF',\n",
       "  'target_arch': 'x86_64',\n",
       "  'target_os': 'windows',\n",
       "  'cppdefines': 'SAFEINT_USE_INTRINSICS 0 PCRE2_STATIC NDEBUG BOOST_ALL_NO_LIB _UNICODE UNICODE _SILENCE_CXX17_ALLOCATOR_VOID_DEPRECATION_WARNING _SILENCE_CXX17_OLD_ALLOCATOR_MEMBERS_DEPRECATION_WARNING _SILENCE_CXX17_CODECVT_HEADER_DEPRECATION_WARNING _SILENCE_ALL_CXX20_DEPRECATION_WARNINGS _CONSOLE _CRT_SECURE_NO_WARNINGS _ENABLE_EXTENDED_ALIGNED_STORAGE _SCL_SECURE_NO_WARNINGS _WIN32_WINNT 0x0A00 BOOST_USE_WINAPI_VERSION 0x0A00 NTDDI_VERSION 0x0A000000 ABSL_FORCE_ALIGNED_ACCESS BOOST_ENABLE_ASSERT_DEBUG_HANDLER BOOST_FILESYSTEM_NO_CXX20_ATOMIC_REF BOOST_LOG_NO_SHORTHAND_NAMES BOOST_LOG_USE_NATIVE_SYSLOG BOOST_LOG_WITHOUT_THREAD_ATTR BOOST_MATH_NO_LONG_DOUBLE_MATH_FUNCTIONS BOOST_SYSTEM_NO_DEPRECATED BOOST_THREAD_USES_DATETIME BOOST_THREAD_VERSION 5'},\n",
       " 'bits': 64,\n",
       " 'debug': False,\n",
       " 'maxBsonObjectSize': 16777216,\n",
       " 'storageEngines': ['devnull', 'wiredTiger'],\n",
       " 'ok': 1.0}"
      ]
     },
     "execution_count": 22,
     "metadata": {},
     "output_type": "execute_result"
    }
   ],
   "source": [
    "from pymongo import MongoClient\n",
    "conn = MongoClient(\"mongodb://localhost:27017/\")\n",
    "db = conn[\"test1\"]\n",
    "collection = db[\"student\"]\n",
    "conn.server_info()"
   ]
  },
  {
   "cell_type": "code",
   "execution_count": null,
   "id": "c1b06dd9",
   "metadata": {},
   "outputs": [],
   "source": []
  },
  {
   "cell_type": "code",
   "execution_count": 9,
   "id": "6653c337",
   "metadata": {},
   "outputs": [
    {
     "name": "stdout",
     "output_type": "stream",
     "text": [
      "{'first_name': 'Arun', 'last_name': 'Kumar', 'mark': 89}\n",
      "{'first_name': 'Abhilash', 'last_name': 'Menon', 'mark': 85}\n",
      "{'first_name': 'Rahul', 'last_name': 'Varma', 'mark': 90}\n",
      "{'first_name': 'Vinay', 'last_name': 'Krishna', 'mark': 82}\n",
      "{'first_name': 'Anil', 'last_name': 'Rajan', 'mark': 86}\n",
      "{'first_name': 'Ravi', 'last_name': 'Varma', 'mark': 83}\n",
      "{'first_name': 'Hari', 'last_name': 'Narayan', 'mark': 84}\n",
      "{'first_name': 'Vineeth', 'last_name': 'Mathew', 'mark': 81}\n",
      "{'first_name': 'Nitin', 'last_name': 'Sankar', 'mark': 87}\n",
      "{'first_name': 'Sarath', 'last_name': 'Ravi', 'mark': 83}\n",
      "{'first_name': 'Vimal', 'last_name': 'Kumar', 'mark': 84}\n",
      "{'first_name': 'Suresh', 'last_name': 'Reddy', 'mark': 88}\n"
     ]
    }
   ],
   "source": [
    "result=collection.find({\"department\": \"Mechanical\",\"mark\":{\"$gt\":80}},{\"_id\":0,\"first_name\":1,'last_name':1,\"mark\":1})\n",
    "for x in result:\n",
    "    print(x)"
   ]
  },
  {
   "cell_type": "code",
   "execution_count": 10,
   "id": "02b5032c",
   "metadata": {},
   "outputs": [
    {
     "name": "stdout",
     "output_type": "stream",
     "text": [
      "{'first_name': 'Anu', 'last_name': 'Joseph', 'mark': 95}\n",
      "{'first_name': 'Meera', 'last_name': 'Raj', 'mark': 92}\n",
      "{'first_name': 'Asha', 'last_name': 'Nair', 'mark': 88}\n",
      "{'first_name': 'Divya', 'last_name': 'Pillai', 'mark': 98}\n",
      "{'first_name': 'Ajith', 'last_name': 'Das', 'mark': 79}\n",
      "{'first_name': 'Sita', 'last_name': 'Ram', 'mark': 91}\n",
      "{'first_name': 'Lakshmi', 'last_name': 'Menon', 'mark': 94}\n",
      "{'first_name': 'Arya', 'last_name': 'Krishnan', 'mark': 96}\n",
      "{'first_name': 'Sneha', 'last_name': 'Thomas', 'mark': 93}\n",
      "{'first_name': 'Geetha', 'last_name': 'Prakash', 'mark': 97}\n",
      "{'first_name': 'Lekha', 'last_name': 'Nair', 'mark': 90}\n",
      "{'first_name': 'Arya', 'last_name': 'Suresh', 'mark': 92}\n",
      "{'first_name': 'Seema', 'last_name': 'Das', 'mark': 88}\n",
      "{'first_name': 'Anjana', 'last_name': 'Prasad', 'mark': 89}\n",
      "{'first_name': 'Rekha', 'last_name': 'Sivan', 'mark': 96}\n"
     ]
    }
   ],
   "source": [
    "result=collection.find({\"department\": \"MCA\",\"mark\":{\"$gte\":70,\"$lte\":900}},{\"_id\":0,\"first_name\":1,'last_name':1,\"mark\":1})\n",
    "for x in result:\n",
    "    print(x)"
   ]
  },
  {
   "cell_type": "code",
   "execution_count": null,
   "id": "a49440ad",
   "metadata": {},
   "outputs": [],
   "source": []
  },
  {
   "cell_type": "code",
   "execution_count": 13,
   "id": "e6c2574f",
   "metadata": {},
   "outputs": [
    {
     "name": "stdout",
     "output_type": "stream",
     "text": [
      "{'first_name': 'Anu', 'last_name': 'Joseph', 'mark': 95}\n",
      "{'first_name': 'Arun', 'last_name': 'Kumar', 'mark': 89}\n",
      "{'first_name': 'Abhilash', 'last_name': 'Menon', 'mark': 85}\n",
      "{'first_name': 'Asha', 'last_name': 'Nair', 'mark': 88}\n",
      "{'first_name': 'Ajith', 'last_name': 'Das', 'mark': 79}\n",
      "{'first_name': 'Anil', 'last_name': 'Rajan', 'mark': 86}\n",
      "{'first_name': 'Arya', 'last_name': 'Krishnan', 'mark': 96}\n",
      "{'first_name': 'Arya', 'last_name': 'Suresh', 'mark': 92}\n",
      "{'first_name': 'Anjana', 'last_name': 'Prasad', 'mark': 89}\n"
     ]
    }
   ],
   "source": [
    "result=collection.find({\"first_name\":{\"$regex\":\"^A\",\"$options\":\"i\"}},{\"_id\":0,\"first_name\":1,'last_name':1,\"mark\":1})\n",
    "for x in result:\n",
    "    print(x)"
   ]
  },
  {
   "cell_type": "code",
   "execution_count": 16,
   "id": "8170bbd6",
   "metadata": {},
   "outputs": [
    {
     "name": "stdout",
     "output_type": "stream",
     "text": [
      "{'_id': 1, 'first_name': 'Anu', 'last_name': 'Joseph', 'gender': 'Female', 'mark': 95, 'grade': 'A+', 'department': 'MCA', 'place': 'Kollam', 'course': 'MCA'}\n",
      "{'_id': 2, 'first_name': 'Arun', 'last_name': 'Kumar', 'gender': 'Male', 'mark': 89, 'grade': 'A', 'department': 'Mechanical', 'place': 'Ernakulam', 'course': 'Btech Mechanical'}\n",
      "{'_id': 4, 'first_name': 'Abhilash', 'last_name': 'Menon', 'gender': 'Male', 'mark': 85, 'grade': 'A', 'department': 'Mechanical', 'place': 'Kozhikode', 'course': 'Btech Mechanical'}\n",
      "{'_id': 5, 'first_name': 'Asha', 'last_name': 'Nair', 'gender': 'Female', 'mark': 88, 'grade': 'A+', 'department': 'MCA', 'place': 'Kottayam', 'course': 'MCA'}\n",
      "{'_id': 6, 'first_name': 'Binu', 'last_name': 'George', 'gender': 'Male', 'mark': 76, 'grade': 'B', 'department': 'Mechanical', 'place': 'Kollam', 'course': 'Btech Mechanical'}\n",
      "{'_id': 7, 'first_name': 'Divya', 'last_name': 'Pillai', 'gender': 'Female', 'mark': 98, 'grade': 'A+', 'department': 'MCA', 'place': 'Kottayam', 'course': 'MCA'}\n",
      "{'_id': 8, 'first_name': 'Rahul', 'last_name': 'Varma', 'gender': 'Male', 'mark': 90, 'grade': 'A+', 'department': 'Mechanical', 'place': 'Pathanamthitta', 'course': 'Btech Mechanical'}\n",
      "{'_id': 9, 'first_name': 'Vinay', 'last_name': 'Krishna', 'gender': 'Male', 'mark': 82, 'grade': 'A', 'department': 'Mechanical', 'place': 'Thrissur', 'course': 'Btech Mechanical'}\n",
      "{'_id': 10, 'first_name': 'Ajith', 'last_name': 'Das', 'gender': 'Male', 'mark': 79, 'grade': 'B', 'department': 'MCA', 'place': 'Alappuzha', 'course': 'MCA'}\n",
      "{'_id': 11, 'first_name': 'Sita', 'last_name': 'Ram', 'gender': 'Female', 'mark': 91, 'grade': 'A+', 'department': 'MCA', 'place': 'Alappuzha', 'course': 'MCA'}\n",
      "{'_id': 12, 'first_name': 'Manu', 'last_name': 'Sharma', 'gender': 'Male', 'mark': 78, 'grade': 'B', 'department': 'Mechanical', 'place': 'Kannur', 'course': 'Btech Mechanical'}\n",
      "{'_id': 13, 'first_name': 'Anil', 'last_name': 'Rajan', 'gender': 'Male', 'mark': 86, 'grade': 'A', 'department': 'Mechanical', 'place': 'Kollam', 'course': 'Btech Mechanical'}\n",
      "{'_id': 14, 'first_name': 'Lakshmi', 'last_name': 'Menon', 'gender': 'Female', 'mark': 94, 'grade': 'A+', 'department': 'MCA', 'place': 'Palakkad', 'course': 'MCA'}\n",
      "{'_id': 15, 'first_name': 'Ravi', 'last_name': 'Varma', 'gender': 'Male', 'mark': 83, 'grade': 'A', 'department': 'Mechanical', 'place': 'Kottayam', 'course': 'Btech Mechanical'}\n",
      "{'_id': 16, 'first_name': 'Arya', 'last_name': 'Krishnan', 'gender': 'Female', 'mark': 96, 'grade': 'A+', 'department': 'MCA', 'place': 'Kollam', 'course': 'MCA'}\n",
      "{'_id': 17, 'first_name': 'Hari', 'last_name': 'Narayan', 'gender': 'Male', 'mark': 84, 'grade': 'A', 'department': 'Mechanical', 'place': 'Pathanamthitta', 'course': 'Btech Mechanical'}\n",
      "{'_id': 18, 'first_name': 'Sneha', 'last_name': 'Thomas', 'gender': 'Female', 'mark': 93, 'grade': 'A+', 'department': 'MCA', 'place': 'Idukki', 'course': 'MCA'}\n",
      "{'_id': 19, 'first_name': 'Vineeth', 'last_name': 'Mathew', 'gender': 'Male', 'mark': 81, 'grade': 'B', 'department': 'Mechanical', 'place': 'Alappuzha', 'course': 'Btech Mechanical'}\n",
      "{'_id': 20, 'first_name': 'Geetha', 'last_name': 'Prakash', 'gender': 'Female', 'mark': 97, 'grade': 'A+', 'department': 'MCA', 'place': 'Thrissur', 'course': 'MCA'}\n",
      "{'_id': 21, 'first_name': 'Kiran', 'last_name': 'Pillai', 'gender': 'Male', 'mark': 77, 'grade': 'B', 'department': 'Mechanical', 'place': 'Wayanad', 'course': 'Btech Mechanical'}\n",
      "{'_id': 22, 'first_name': 'Lekha', 'last_name': 'Nair', 'gender': 'Female', 'mark': 90, 'grade': 'A', 'department': 'MCA', 'place': 'Ernakulam', 'course': 'MCA'}\n",
      "{'_id': 23, 'first_name': 'Nitin', 'last_name': 'Sankar', 'gender': 'Male', 'mark': 87, 'grade': 'A', 'department': 'Mechanical', 'place': 'Kozhikode', 'course': 'Btech Mechanical'}\n",
      "{'_id': 24, 'first_name': 'Arya', 'last_name': 'Suresh', 'gender': 'Female', 'mark': 92, 'grade': 'A+', 'department': 'MCA', 'place': 'Kasargod', 'course': 'MCA'}\n",
      "{'_id': 25, 'first_name': 'Sarath', 'last_name': 'Ravi', 'gender': 'Male', 'mark': 83, 'grade': 'B', 'department': 'Mechanical', 'place': 'Palakkad', 'course': 'Btech Mechanical'}\n",
      "{'_id': 26, 'first_name': 'Seema', 'last_name': 'Das', 'gender': 'Female', 'mark': 88, 'grade': 'A', 'department': 'MCA', 'place': 'Pathanamthitta', 'course': 'MCA'}\n",
      "{'_id': 27, 'first_name': 'Vimal', 'last_name': 'Kumar', 'gender': 'Male', 'mark': 84, 'grade': 'A', 'department': 'Mechanical', 'place': 'Thrissur', 'course': 'Btech Mechanical'}\n",
      "{'_id': 28, 'first_name': 'Anjana', 'last_name': 'Prasad', 'gender': 'Female', 'mark': 89, 'grade': 'A+', 'department': 'MCA', 'place': 'Kannur', 'course': 'MCA'}\n",
      "{'_id': 29, 'first_name': 'Suresh', 'last_name': 'Reddy', 'gender': 'Male', 'mark': 88, 'grade': 'A', 'department': 'Mechanical', 'place': 'Ernakulam', 'course': 'Btech Mechanical'}\n",
      "{'_id': 30, 'first_name': 'Rekha', 'last_name': 'Sivan', 'gender': 'Female', 'mark': 96, 'grade': 'A+', 'department': 'MCA', 'place': 'Kasaragod', 'course': 'MCA'}\n"
     ]
    }
   ],
   "source": [
    "result=collection.find({\"place\":{\"$nin\":[\"Thiruvananthapuram\"]}})\n",
    "for x in result:\n",
    "    print(x)"
   ]
  },
  {
   "cell_type": "code",
   "execution_count": 5,
   "id": "7c2b4e5a",
   "metadata": {},
   "outputs": [
    {
     "name": "stdout",
     "output_type": "stream",
     "text": [
      "{'first_name': 'Arya', 'mark': 96}\n",
      "{'first_name': 'Rekha', 'mark': 96}\n",
      "{'first_name': 'Anu', 'mark': 95}\n",
      "{'first_name': 'Lakshmi', 'mark': 94}\n",
      "{'first_name': 'Sneha', 'mark': 93}\n"
     ]
    }
   ],
   "source": [
    "for doc in collection.find(\n",
    "    {\"mark\": {\"$gt\": 78}},\n",
    "    {\"first_name\": 1, \"mark\": 1, \"_id\": 0}\n",
    ").skip(2).limit(5).sort(\"mark\", -1):\n",
    "    print(doc)"
   ]
  },
  {
   "cell_type": "code",
   "execution_count": 10,
   "id": "e1bbef8b",
   "metadata": {},
   "outputs": [
    {
     "name": "stdout",
     "output_type": "stream",
     "text": [
      "{'_id': 1, 'first_name': 'Anu', 'last_name': 'Joseph', 'gender': 'Female', 'mark': 95, 'grade': 'A+', 'department': 'MCA', 'place': 'Kollam', 'course': 'MCA'}\n"
     ]
    }
   ],
   "source": [
    "#update\n",
    "collection.update_many({\"first_name\":\"Anu\"},{\"$set\":{\"mark\":95}})\n",
    "for doc in collection.find({\"first_name\":\"Anu\"}):\n",
    "    print(doc)"
   ]
  },
  {
   "cell_type": "code",
   "execution_count": 21,
   "id": "e7bb4e2b",
   "metadata": {},
   "outputs": [
    {
     "name": "stdout",
     "output_type": "stream",
     "text": [
      "{'_id': 10, 'first_name': 'Ajith', 'last_name': 'Das', 'gender': 'Male', 'mark': 79, 'grade': 'B', 'department': 'MCA', 'place': 'Alappuzha', 'course': 'MCA'}\n",
      "{'_id': 12, 'first_name': 'Manu', 'last_name': 'Sharma', 'gender': 'Male', 'mark': 78, 'grade': 'B', 'department': 'Mechanical', 'place': 'Kannur', 'course': 'Btech Mechanical'}\n",
      "{'_id': 21, 'first_name': 'Kiran', 'last_name': 'Pillai', 'gender': 'Male', 'mark': 77, 'grade': 'B', 'department': 'Mechanical', 'place': 'Wayanad', 'course': 'Btech Mechanical'}\n",
      "{'_id': 6, 'first_name': 'Binu', 'last_name': 'George', 'gender': 'Male', 'mark': 76, 'grade': 'B', 'department': 'Mechanical', 'place': 'Kollam', 'course': 'Btech Mechanical'}\n"
     ]
    }
   ],
   "source": [
    "#delete\n",
    "collection.delete_one({\"mark\":{\"$lt\":76}})\n",
    "for doc in collection.find({\"mark\":{\"$lte\":80}}):\n",
    "    print(doc)"
   ]
  },
  {
   "cell_type": "code",
   "execution_count": 32,
   "id": "2ec13065",
   "metadata": {},
   "outputs": [
    {
     "name": "stdout",
     "output_type": "stream",
     "text": [
      "Arya Krishnan 96 16\n",
      "Anu Joseph 95 1\n",
      "Lakshmi Menon 94 14\n",
      "Sneha Thomas 93 18\n",
      "Arya Suresh 92 24\n"
     ]
    }
   ],
   "source": [
    "re=collection.find({}).sort(\"mark\",-1).skip(3).limit(5)\n",
    "for i in re:\n",
    "    print(i[\"first_name\"],i[\"last_name\"],i[\"mark\"],i[\"_id\"])"
   ]
  },
  {
   "cell_type": "code",
   "execution_count": 46,
   "id": "8b800d23",
   "metadata": {},
   "outputs": [
    {
     "data": {
      "text/plain": [
       "InsertManyResult([ObjectId('683dd3e3011b47c977fdb6ea'), ObjectId('683dd3e3011b47c977fdb6eb')], acknowledged=True)"
      ]
     },
     "execution_count": 46,
     "metadata": {},
     "output_type": "execute_result"
    }
   ],
   "source": [
    "collection2 = db[\"test2\"]\n",
    "val1=[{\"name\":\"nandu\",\"mark\":{\"internal\":39,\"external\":56}},{\"name\":\"mon\",\"mark\":{\"internal\":38,\"external\":57}}]\n",
    "collection2.insert_many(val1)"
   ]
  },
  {
   "cell_type": "code",
   "execution_count": 47,
   "id": "16aad1b1",
   "metadata": {},
   "outputs": [
    {
     "name": "stdout",
     "output_type": "stream",
     "text": [
      "{'_id': ObjectId('683dd3e3011b47c977fdb6ea'), 'name': 'nandu', 'mark': {'internal': 39, 'external': 56}}\n",
      "{'_id': ObjectId('683dd3e3011b47c977fdb6eb'), 'name': 'mon', 'mark': {'internal': 38, 'external': 57}}\n"
     ]
    }
   ],
   "source": [
    "\n",
    "re=collection2.find({}).sort(\"mark.internal\",-1)\n",
    "for x in re:\n",
    "    print(x)"
   ]
  }
 ],
 "metadata": {
  "kernelspec": {
   "display_name": "Python 3",
   "language": "python",
   "name": "python3"
  },
  "language_info": {
   "codemirror_mode": {
    "name": "ipython",
    "version": 3
   },
   "file_extension": ".py",
   "mimetype": "text/x-python",
   "name": "python",
   "nbconvert_exporter": "python",
   "pygments_lexer": "ipython3",
   "version": "3.13.0"
  }
 },
 "nbformat": 4,
 "nbformat_minor": 5
}
